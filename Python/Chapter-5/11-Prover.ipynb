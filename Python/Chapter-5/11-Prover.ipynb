{
 "cells": [
  {
   "cell_type": "code",
   "execution_count": null,
   "metadata": {},
   "outputs": [],
   "source": [
    "from IPython.display import HTML\n",
    "HTML(open('../style.css').read())"
   ]
  },
  {
   "cell_type": "markdown",
   "metadata": {},
   "source": [
    "# A Theorem Prover for First-Order Logic without Equality"
   ]
  },
  {
   "cell_type": "markdown",
   "metadata": {},
   "source": [
    "## Auxiliary Functions"
   ]
  },
  {
   "cell_type": "markdown",
   "metadata": {},
   "source": [
    "We need the parser for first order formulas, hence we import it.\n",
    "\n",
    "Formulas are represented as nested tuples.  In order to convert a string into a nested tuple we use the `LogicParser` that is found in the file `FOL-Parser.ipynb`.  Our parser distinguishes variables and function symbol as follows:\n",
    "- A word starting with a lower case letter is interpreted as a *variable*.\n",
    "- A word starting with an upper case letter is assumed to be a *function* or *predicate symbol*."
   ]
  },
  {
   "cell_type": "code",
   "execution_count": null,
   "metadata": {},
   "outputs": [],
   "source": [
    "%%capture\n",
    "%run FOL-Parser.ipynb"
   ]
  },
  {
   "cell_type": "markdown",
   "metadata": {},
   "source": [
    "The function `parse` takes a string `s` representing a formula from first-order logic.\n",
    "It returns a nested tuple representing this formula."
   ]
  },
  {
   "cell_type": "code",
   "execution_count": null,
   "metadata": {},
   "outputs": [],
   "source": [
    "def parse(s):\n",
    "    return LogicParser(s).parse()"
   ]
  },
  {
   "cell_type": "markdown",
   "metadata": {},
   "source": [
    "The resolution calculus works with clauses.  The notebook `FOL-CNF.ipynb` implements the function $\\texttt{normalize}(f)$ that turns a formula $f$ into a set of clauses."
   ]
  },
  {
   "cell_type": "code",
   "execution_count": null,
   "metadata": {},
   "outputs": [],
   "source": [
    "%%capture\n",
    "%run 09-FOL-CNF.ipynb"
   ]
  },
  {
   "cell_type": "code",
   "execution_count": null,
   "metadata": {},
   "outputs": [],
   "source": [
    "s = '∀g:∀c:(Grandparent(g, c) ↔ ∃p: (Parent(g, p) ∧ Parent(p, c)))'\n",
    "f = parse(s)\n",
    "f"
   ]
  },
  {
   "cell_type": "code",
   "execution_count": null,
   "metadata": {},
   "outputs": [],
   "source": [
    "Clauses = normalize(f)\n",
    "Clauses"
   ]
  },
  {
   "cell_type": "markdown",
   "metadata": {},
   "source": [
    "The module `unify` implements [unification](https://en.wikipedia.org/wiki/Unification_(computer_science)) via the agorithm of [Martelli and Montanari](https://dl.acm.org/doi/pdf/10.1145/357162.357169)."
   ]
  },
  {
   "cell_type": "code",
   "execution_count": null,
   "metadata": {},
   "outputs": [],
   "source": [
    "%run 10-Unification.ipynb"
   ]
  },
  {
   "cell_type": "markdown",
   "metadata": {},
   "source": [
    "The function call $\\texttt{arb}(S)$ returns an arbitrary element from the set $S$."
   ]
  },
  {
   "cell_type": "code",
   "execution_count": null,
   "metadata": {},
   "outputs": [],
   "source": [
    "def arb(S):\n",
    "    for x in S:\n",
    "        return x"
   ]
  },
  {
   "cell_type": "markdown",
   "metadata": {},
   "source": [
    "Given a literal $l$ the function $\\texttt{complement}(l)$ computes the complement $\\overline{\\,l\\,}$ of the literal $l$."
   ]
  },
  {
   "cell_type": "code",
   "execution_count": null,
   "metadata": {},
   "outputs": [],
   "source": [
    "def complement(l):\n",
    "    \"Compute the complement of the literal l.\"\n",
    "    match l:\n",
    "        case ('¬', A):\n",
    "            return A\n",
    "        case A:\n",
    "            return ('¬', A)"
   ]
  },
  {
   "cell_type": "code",
   "execution_count": null,
   "metadata": {},
   "outputs": [],
   "source": [
    "complement(('P', 'x'))"
   ]
  },
  {
   "cell_type": "code",
   "execution_count": null,
   "metadata": {},
   "outputs": [],
   "source": [
    "complement(('¬', ('P', 'x')))"
   ]
  },
  {
   "cell_type": "markdown",
   "metadata": {},
   "source": [
    "Given a clause $C$, the function $\\texttt{collectVariables}(C)$ computes the set of all variables occurring in $C$.  The function $\\texttt{collectVariables}$ can also compute the variables occurring in a literal or a term."
   ]
  },
  {
   "cell_type": "code",
   "execution_count": null,
   "metadata": {},
   "outputs": [],
   "source": [
    "def collectVariables(C):\n",
    "    if isinstance(C, frozenset):         # C is a clause\n",
    "        return { x for literal in C \n",
    "                   for x in collectVariables(literal) \n",
    "               }\n",
    "    if isinstance(C, str):               # C is a variable\n",
    "        return { C }\n",
    "    if C[0] == '¬':\n",
    "        return collectVariables(C[1])    # C is a literal\n",
    "    # C must be a term or atomic formula\n",
    "    _, *args = C\n",
    "    return { x for t in args \n",
    "               for x in collectVariables(t) }"
   ]
  },
  {
   "cell_type": "code",
   "execution_count": null,
   "metadata": {},
   "outputs": [],
   "source": [
    "for C in Clauses:\n",
    "    print(f'collectVariables({C}) = \\n\\t{collectVariables(C)}')"
   ]
  },
  {
   "cell_type": "code",
   "execution_count": null,
   "metadata": {},
   "outputs": [],
   "source": [
    "from string import ascii_lowercase"
   ]
  },
  {
   "cell_type": "markdown",
   "metadata": {},
   "source": [
    "The function $\\texttt{renameVariables}(f, g)$ takes two clauses `f` and `g` and renames the variables in the clauses `f` so that they are different from the variables occurring in `g`."
   ]
  },
  {
   "cell_type": "code",
   "execution_count": null,
   "metadata": {},
   "outputs": [],
   "source": [
    "def renameVariables(f, g):\n",
    "    OldVars = collectVariables(f)\n",
    "    NewVars = set(ascii_lowercase) - collectVariables(g)\n",
    "    NewVars = sorted(list(NewVars))\n",
    "    sigma   = { x: NewVars[i] for (i, x) in enumerate(OldVars) }\n",
    "    return apply(f, sigma)"
   ]
  },
  {
   "cell_type": "code",
   "execution_count": null,
   "metadata": {},
   "outputs": [],
   "source": [
    "for C in Clauses:\n",
    "    print(renameVariables(C, C))"
   ]
  },
  {
   "cell_type": "markdown",
   "metadata": {},
   "source": [
    "# A Calculus for First Order Logic"
   ]
  },
  {
   "cell_type": "markdown",
   "metadata": {},
   "source": [
    "The [resolution](https://en.wikipedia.org/wiki/Resolution_(logic)) rule is an inference rule that is defined as follows: If\n",
    " * $C_1$ and $C_2$ are clauses from first order logic,</li>\n",
    " * $p(s_1,\\cdots,s_n)$ and $p(t_1,\\cdots,t_n)$ are atomic formulas,</li> \n",
    " * the syntactical equation $p(s_1,\\cdots,s_n) \\doteq p(t_1,\\cdots,t_n)$ is solvable and\n",
    "     $$ \\mu = \\mathtt{mgu}\\bigl(p(s_1,\\cdots,s_n), p(t_1,\\cdots,t_n)\\bigr), $$\n",
    "then\n",
    "$$\\frac{C_1 \\cup\\{ p(s_1,\\cdots,s_n)\\} \\quad\\quad \\{\\neg p(t_1,\\cdots,t_n)\\} \\cup C_2}{\n",
    "                 C_1\\mu \\cup C_2\\mu} \n",
    "$$\n",
    "is an application of the resolution rule."
   ]
  },
  {
   "cell_type": "markdown",
   "metadata": {},
   "source": [
    "Given a two clauses <tt>C1</tt> and <tt>C2</tt>, the function $\\texttt{resolve}(\\texttt{C1}, \\texttt{C2})$ computes a set of all clauses that can be inferred from <tt>C1</tt> and <tt>C2</tt> by applying the resolution rule."
   ]
  },
  {
   "cell_type": "code",
   "execution_count": null,
   "metadata": {},
   "outputs": [],
   "source": [
    "def resolve(C1, C2):\n",
    "    C2 = renameVariables(C2, C1)\n",
    "    Result = set()\n",
    "    for L1 in C1:\n",
    "        for L2 in C2:\n",
    "            mu = unify(L1, complement(L2))\n",
    "            if mu != None:\n",
    "                C1C2 = apply((C1 - { L1 }) | (C2 - { L2 }), mu)\n",
    "                Result.add(C1C2)\n",
    "    return Result"
   ]
  },
  {
   "cell_type": "markdown",
   "metadata": {},
   "source": [
    "## Some Formulas for Testing"
   ]
  },
  {
   "cell_type": "markdown",
   "metadata": {},
   "source": [
    "According to <a href=\"https://de.wikipedia.org/wiki/Uwe_Schöning\">Uwe Schöning</a>, the theory of red dragons is\n",
    "given by the following axioms:\n",
    "<ol>\n",
    "<li>\n",
    "Every dragon is happy if all its children can fly:\n",
    "$$ \\forall x: \\Bigl(\\forall y: \\big(\\texttt{Child}(y,x) \\rightarrow \\texttt{CanFly}(y)\\big) \\rightarrow \\texttt{Happy}(x)\\Bigr) \n",
    "$$\n",
    "</li>\n",
    "<li> \n",
    "All red dragons can fly:\n",
    "$$\n",
    " \\forall x: \\bigl(\\texttt{Red}(x) \\rightarrow \\texttt{CanFly}(x)\\bigr)\n",
    "$$\n",
    "</li>\n",
    "<li> The children of red dragons are themselves red:\n",
    "$$\n",
    "\\forall x: \\bigl(\\texttt{Red}(x) \\rightarrow \\forall y:\\bigl( \\texttt{Child}(y,x) \\rightarrow \\texttt{Red}(y)\\bigr)\\bigr)\n",
    "$$\n",
    "</li>\n",
    "</ol>\n",
    "We will show that these axioms imply that all red dragons are happy:\n",
    "$$\n",
    " \\forall x: \\bigl(\\texttt{Red}(x) \\rightarrow \\texttt{Happy}(x)\\bigr)\n",
    "$$\n",
    "To this end, the formula stating that all red dragons can fly is negated.  Then we will show that the set consisting of the negated formula together with the axioms is inconsistent.  We start by defining the formulas."
   ]
  },
  {
   "cell_type": "code",
   "execution_count": null,
   "metadata": {},
   "outputs": [],
   "source": [
    "s1 = '∀x:(∀y:(Child(y, x) → CanFly(y)) → Happy(x))'\n",
    "s2 = '∀x:(Red(x) → CanFly(x))'\n",
    "s3 = '∀x:(Red(x) → ∀y:(Child(y, x) → Red(y)))'\n",
    "s4 = '¬∀x:(Red(x) → Happy(x))'"
   ]
  },
  {
   "cell_type": "markdown",
   "metadata": {},
   "source": [
    "Next, the formulas are parsed and transformed into clauses."
   ]
  },
  {
   "cell_type": "code",
   "execution_count": null,
   "metadata": {},
   "outputs": [],
   "source": [
    "f1 = parse(s1)\n",
    "normalize(f1)"
   ]
  },
  {
   "cell_type": "code",
   "execution_count": null,
   "metadata": {},
   "outputs": [],
   "source": [
    "f2 = parse(s2)\n",
    "normalize(f2)"
   ]
  },
  {
   "cell_type": "code",
   "execution_count": null,
   "metadata": {},
   "outputs": [],
   "source": [
    "f3 = parse(s3)\n",
    "normalize(f3)"
   ]
  },
  {
   "cell_type": "code",
   "execution_count": null,
   "metadata": {},
   "outputs": [],
   "source": [
    "f4 = parse(s4)\n",
    "normalize(f4)"
   ]
  },
  {
   "cell_type": "code",
   "execution_count": null,
   "metadata": {},
   "outputs": [],
   "source": [
    "Clauses = normalize(f1) | normalize(f2) | normalize(f3) | normalize(f4)\n",
    "Clauses"
   ]
  },
  {
   "cell_type": "markdown",
   "metadata": {},
   "source": [
    "We give names to the clauses in order to be able to refer to them."
   ]
  },
  {
   "cell_type": "code",
   "execution_count": null,
   "metadata": {},
   "outputs": [],
   "source": [
    "C1 = frozenset({('Red', ('sk3',))})"
   ]
  },
  {
   "cell_type": "code",
   "execution_count": null,
   "metadata": {},
   "outputs": [],
   "source": [
    "C2 = frozenset({('¬', ('Happy', ('sk3',)))})"
   ]
  },
  {
   "cell_type": "code",
   "execution_count": null,
   "metadata": {},
   "outputs": [],
   "source": [
    "C3 = frozenset({('CanFly', 'x'), ('¬', ('Red', 'x'))})"
   ]
  },
  {
   "cell_type": "code",
   "execution_count": null,
   "metadata": {},
   "outputs": [],
   "source": [
    "C4 = frozenset({('Child', ('sk2', 'x'), 'x'), ('Happy', 'x')})"
   ]
  },
  {
   "cell_type": "code",
   "execution_count": null,
   "metadata": {},
   "outputs": [],
   "source": [
    "C5 = frozenset({('Happy', 'x'), ('¬', ('CanFly', ('sk2', 'x')))})"
   ]
  },
  {
   "cell_type": "code",
   "execution_count": null,
   "metadata": {},
   "outputs": [],
   "source": [
    "C6 = frozenset({('Red', 'y'), ('¬', ('Child', 'y', 'x')), ('¬', ('Red', 'x'))})"
   ]
  },
  {
   "cell_type": "markdown",
   "metadata": {},
   "source": [
    "Now we are ready to show that the set consisting of these clauses is inconsistent."
   ]
  },
  {
   "cell_type": "code",
   "execution_count": null,
   "metadata": {},
   "outputs": [],
   "source": [
    "C7 = arb(resolve(C1, C6))\n",
    "C7"
   ]
  },
  {
   "cell_type": "code",
   "execution_count": null,
   "metadata": {},
   "outputs": [],
   "source": [
    "C8 = arb(resolve(C7, C4))\n",
    "C8"
   ]
  },
  {
   "cell_type": "code",
   "execution_count": null,
   "metadata": {},
   "outputs": [],
   "source": [
    "C9 = arb(resolve(C8, C2))\n",
    "C9"
   ]
  },
  {
   "cell_type": "code",
   "execution_count": null,
   "metadata": {},
   "outputs": [],
   "source": [
    "C10 = arb(resolve(C9, C3))\n",
    "C10"
   ]
  },
  {
   "cell_type": "code",
   "execution_count": null,
   "metadata": {},
   "outputs": [],
   "source": [
    "C11 = arb(resolve(C10, C5))\n",
    "C11"
   ]
  },
  {
   "cell_type": "code",
   "execution_count": null,
   "metadata": {},
   "outputs": [],
   "source": [
    "arb(resolve(C11, C2))"
   ]
  },
  {
   "cell_type": "markdown",
   "metadata": {},
   "source": [
    "As we have derived the empty set, we have shown that all <b style=\"color:red;\">communist dragons</b> are happy!"
   ]
  },
  {
   "cell_type": "markdown",
   "metadata": {},
   "source": [
    "## Factorization"
   ]
  },
  {
   "cell_type": "markdown",
   "metadata": {},
   "source": [
    "A calculus which only contains the resolution rule is not complete.  We also need the <em style=\"color:blue;\">factorization</em> rule.  If\n",
    "<ol>\n",
    "<li> $C$ is a clause from first order logic,</li>\n",
    "<li> $p(s_1,\\cdots,s_n)$ and $p(t_1,\\cdots,t_n)$ are atomic formulas,</li>\n",
    "<li> the syntactical equation $p(s_1,\\cdots,s_n)  \\doteq p(t_1,\\cdots,t_n)$ is solvable and \n",
    "     $$\\mu = \\mathtt{mgu}\\bigl(p(s_1,\\cdots,s_n), p(t_1,\\cdots,t_n)\\bigr), $$</li>\n",
    "</ol>\n",
    "then both \n",
    "\n",
    "$\\displaystyle \\frac{C \\cup \\bigl\\{p(s_1,\\cdots,s_n),\\, p(t_1,\\cdots,t_n)\\bigl\\}}{C\\mu \\cup \\bigl\\{p(s_1,\\cdots,s_n)\\mu\\bigr\\} } $ \n",
    "and \n",
    "$\\displaystyle \\frac{C \\cup \\bigl\\{ \\neg p(s_1,\\cdots,s_n),\\, \\neg p(t_1,\\cdots,t_n)\\bigl\\}}{C\\mu \\cup \\bigl\\{\\neg p(s_1,\\cdots,s_n)\\mu\\bigr\\} }\n",
    "$\n",
    "\n",
    "are applications of the factorization rule."
   ]
  },
  {
   "cell_type": "markdown",
   "metadata": {},
   "source": [
    "The function $\\texttt{factorize}(C)$ takes a clause $C$ from first order logic and computes all clauses that can be derived from $C$ via factorization."
   ]
  },
  {
   "cell_type": "code",
   "execution_count": null,
   "metadata": {},
   "outputs": [],
   "source": [
    "def factorize(C):\n",
    "    Result = set()\n",
    "    for L1 in C:\n",
    "        for L2 in C:\n",
    "            if L1 != L2:\n",
    "                mu  = unify(L1, L2)\n",
    "                if mu != None:\n",
    "                    Cmu = apply(C, mu)\n",
    "                    Result.add(Cmu)\n",
    "    return Result"
   ]
  },
  {
   "cell_type": "markdown",
   "metadata": {},
   "source": [
    "The clauses \n",
    "$$C_1 := \\forall x: \\forall y: P(F(x),y) \\vee \\forall u: \\forall v:P(u, G(v))$$\n",
    "and\n",
    "$$C_2 := \\forall x: \\forall y: \\bigl(\\neg P(F(x),y)\\bigr) \\vee \\forall u: \\forall v: \\bigl(\\neg P(u, G(v))\\bigr)$$\n",
    "are inconsistent.  However, the resolution rule alone is not sufficient to show this."
   ]
  },
  {
   "cell_type": "code",
   "execution_count": null,
   "metadata": {},
   "outputs": [],
   "source": [
    "C1 = arb(normalize(parse('∀x:∀y:P(F(x),y) ∨ ∀u:∀v:P(u,G(v))')))\n",
    "C1"
   ]
  },
  {
   "cell_type": "code",
   "execution_count": null,
   "metadata": {},
   "outputs": [],
   "source": [
    "C2 = arb(normalize(parse('∀x:∀y:(¬P(F(x),y)) ∨ ∀u:∀v:(¬P(u,G(v)))')))\n",
    "C2"
   ]
  },
  {
   "cell_type": "code",
   "execution_count": null,
   "metadata": {},
   "outputs": [],
   "source": [
    "C3 = arb(factorize(C1))\n",
    "C3"
   ]
  },
  {
   "cell_type": "code",
   "execution_count": null,
   "metadata": {},
   "outputs": [],
   "source": [
    "C4 = arb(factorize(C2))\n",
    "C4"
   ]
  },
  {
   "cell_type": "code",
   "execution_count": null,
   "metadata": {},
   "outputs": [],
   "source": [
    "arb(resolve(C3, C4))"
   ]
  },
  {
   "cell_type": "markdown",
   "metadata": {},
   "source": [
    "## Automatic Theorem Proving"
   ]
  },
  {
   "cell_type": "markdown",
   "metadata": {},
   "source": [
    "Given two sets of clauses <tt>Cs1</tt> and <tt>Cs2</tt>, the function $\\texttt{infere}(\\texttt{Cs1}, \\texttt{Cs2})$ returns all possible clauses that result from:\n",
    "<ol>\n",
    "    <li>the resolution of a clause $C_1 \\in \\texttt{Cs1}$ with a clause $C_2 \\in \\texttt{Cs2}$,</li>\n",
    "    <li>the resolution of two clauses $C_1, C_2 \\in \\texttt{Cs1}$,</li>\n",
    "    <li>the factorization of a clause $C \\in \\texttt{Cs1}$.</li>\n",
    "</ol>"
   ]
  },
  {
   "cell_type": "code",
   "execution_count": null,
   "metadata": {},
   "outputs": [],
   "source": [
    "def infere(Clauses):\n",
    "    Result =  { (C, (C1, C2)) for C1 in Clauses\n",
    "                              for C2 in Clauses\n",
    "                              for C  in resolve(C1, C2)\n",
    "              }\n",
    "    Result |= { (C, (C1,)) for C1 in Clauses for C in factorize(C1) }\n",
    "    return Result "
   ]
  },
  {
   "cell_type": "code",
   "execution_count": null,
   "metadata": {},
   "outputs": [],
   "source": [
    "def prettyPrint(Clauses):\n",
    "    for C in Clauses:\n",
    "        print(set(C))"
   ]
  },
  {
   "cell_type": "code",
   "execution_count": null,
   "metadata": {},
   "outputs": [],
   "source": [
    "prettyPrint(Clauses)"
   ]
  },
  {
   "cell_type": "markdown",
   "metadata": {},
   "source": [
    "The function $\\texttt{saturate}(\\texttt{Cs})$ takes a set of clauses $\\texttt{Cs}$ as input and tries to infere the empty clause.  If it is not possible to infer the empty clause, the function runs until memory is exhausted."
   ]
  },
  {
   "cell_type": "code",
   "execution_count": null,
   "metadata": {},
   "outputs": [],
   "source": [
    "def saturate(Cs):\n",
    "    Clauses = Cs.copy()\n",
    "    cnt     = 1\n",
    "    Reasons = {}\n",
    "    while frozenset() not in Clauses:\n",
    "        for (C, R) in infere(Clauses):\n",
    "            if C not in Clauses:\n",
    "                Reasons[C] = R\n",
    "                Clauses.add(C)\n",
    "        print(f'cnt = {cnt}, number of clauses: {len(Clauses)}')\n",
    "        cnt += 1\n",
    "    return Reasons"
   ]
  },
  {
   "cell_type": "code",
   "execution_count": null,
   "metadata": {},
   "outputs": [],
   "source": [
    "%%time\n",
    "Reasons = saturate(Clauses)"
   ]
  },
  {
   "cell_type": "markdown",
   "metadata": {},
   "source": [
    "Given a dictionary $\\texttt{Reasons}$ and a clause $\\texttt{clause}$, the function `constructProof` returns a proof of $\\texttt{clause}$."
   ]
  },
  {
   "cell_type": "code",
   "execution_count": null,
   "metadata": {},
   "outputs": [],
   "source": [
    "def constructProof(clause, Reasons):\n",
    "    if clause in Reasons:\n",
    "        reason = Reasons[clause]\n",
    "    else:\n",
    "        return [f'Axiom:       {set(clause)}']\n",
    "    if len(reason) == 1:\n",
    "        (C,)  = reason\n",
    "        Proof = constructProof(C, Reasons)\n",
    "        Proof.append(f'Factorization: {set(C)} \\n⊢' + ' ' * 12 + f'{set(clause)}')\n",
    "    if len(reason) == 2:\n",
    "        C1, C2  = reason\n",
    "        ProofC1 = constructProof(C1, Reasons)\n",
    "        ProofC2 = constructProof(C2, Reasons)\n",
    "        Proof = update(ProofC1, ProofC2)\n",
    "        Proof.append(f'Resolution:  {set(C1)},\\n' + ' ' * 13 +\n",
    "                     f'{set(C2)}  \\n⊢' + ' ' * 12 + f'{set(clause)}')\n",
    "    return Proof"
   ]
  },
  {
   "cell_type": "code",
   "execution_count": null,
   "metadata": {},
   "outputs": [],
   "source": [
    "def update(P1, P2):\n",
    "    Result = P1\n",
    "    for line in P2:\n",
    "        if line not in Result:\n",
    "            Result.append(line)\n",
    "    return Result"
   ]
  },
  {
   "cell_type": "code",
   "execution_count": null,
   "metadata": {},
   "outputs": [],
   "source": [
    "Proof = constructProof(frozenset(), Reasons)\n",
    "for line in Proof:\n",
    "    print(line)"
   ]
  },
  {
   "cell_type": "code",
   "execution_count": null,
   "metadata": {},
   "outputs": [],
   "source": [
    "Clauses"
   ]
  },
  {
   "cell_type": "code",
   "execution_count": null,
   "metadata": {},
   "outputs": [],
   "source": []
  }
 ],
 "metadata": {
  "hide_input": false,
  "kernelspec": {
   "display_name": "Python 3 (ipykernel)",
   "language": "python",
   "name": "python3"
  },
  "language_info": {
   "codemirror_mode": {
    "name": "ipython",
    "version": 3
   },
   "file_extension": ".py",
   "mimetype": "text/x-python",
   "name": "python",
   "nbconvert_exporter": "python",
   "pygments_lexer": "ipython3",
   "version": "3.13.2"
  },
  "toc": {
   "base_numbering": 1,
   "nav_menu": {},
   "number_sections": true,
   "sideBar": true,
   "skip_h1_title": false,
   "title_cell": "Table of Contents",
   "title_sidebar": "Contents",
   "toc_cell": false,
   "toc_position": {},
   "toc_section_display": true,
   "toc_window_display": false
  },
  "varInspector": {
   "cols": {
    "lenName": 16,
    "lenType": 16,
    "lenVar": 40
   },
   "kernels_config": {
    "python": {
     "delete_cmd_postfix": "",
     "delete_cmd_prefix": "del ",
     "library": "var_list.py",
     "varRefreshCmd": "print(var_dic_list())"
    },
    "r": {
     "delete_cmd_postfix": ") ",
     "delete_cmd_prefix": "rm(",
     "library": "var_list.r",
     "varRefreshCmd": "cat(var_dic_list()) "
    }
   },
   "types_to_exclude": [
    "module",
    "function",
    "builtin_function_or_method",
    "instance",
    "_Feature"
   ],
   "window_display": false
  }
 },
 "nbformat": 4,
 "nbformat_minor": 4
}
