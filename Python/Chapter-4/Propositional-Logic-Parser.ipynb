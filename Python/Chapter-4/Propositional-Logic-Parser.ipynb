{
 "cells": [
  {
   "cell_type": "code",
   "execution_count": null,
   "id": "8672cad1",
   "metadata": {},
   "outputs": [],
   "source": [
    "from IPython.display import HTML\n",
    "HTML(open('../style.css', 'r').read())"
   ]
  },
  {
   "cell_type": "code",
   "execution_count": null,
   "id": "2a7f139f",
   "metadata": {},
   "outputs": [],
   "source": [
    "%load_ext nb_mypy"
   ]
  },
  {
   "cell_type": "markdown",
   "id": "59870856",
   "metadata": {},
   "source": [
    "# A parser for Propositional Logic"
   ]
  },
  {
   "cell_type": "code",
   "execution_count": null,
   "id": "833744cd",
   "metadata": {},
   "outputs": [],
   "source": [
    "import re"
   ]
  },
  {
   "cell_type": "markdown",
   "id": "f6cb0e24",
   "metadata": {},
   "source": [
    "The function `tokenize(s)` transform the string `s` into a list of tokens.  The string s\n",
    "is supposed to represent a formula from propositional logic."
   ]
  },
  {
   "cell_type": "code",
   "execution_count": null,
   "id": "6a3df008",
   "metadata": {},
   "outputs": [],
   "source": [
    "def tokenize(s: str) -> list[str]:\n",
    "    lexSpec = r\"\"\" ([ \\t]+)                  |  # blanks and tabs\n",
    "                   ([A-Za-z][A-Za-z0-9<>,]*) |  # identifier\n",
    "                   ([⊤⊥∧∨«→↔⊕()])            |  # junctors, '(', ')'\n",
    "               \"\"\"\n",
    "    scanner   = re.compile(lexSpec, re.VERBOSE)\n",
    "    tokenList = re.findall(scanner, s)\n",
    "    result    = []\n",
    "    for ws, identifier, operator in tokenList:\n",
    "        if ws:        # skip blanks and tabs\n",
    "            continue\n",
    "        if identifier:\n",
    "            result += [ identifier ]\n",
    "        if operator:\n",
    "            result += [ operator ]\n",
    "    return result"
   ]
  },
  {
   "cell_type": "code",
   "execution_count": null,
   "id": "07c5c01b",
   "metadata": {},
   "outputs": [],
   "source": [
    "tokenize(\"{ 1, 2, 3 }\")"
   ]
  },
  {
   "cell_type": "markdown",
   "id": "3a247928",
   "metadata": {},
   "source": [
    "The function `isPropVar(s)` checks, whether the string `s` can be interpreted as a propositional variable."
   ]
  },
  {
   "cell_type": "code",
   "execution_count": null,
   "id": "2261ed8d",
   "metadata": {},
   "outputs": [],
   "source": [
    "def isPropVar(s: str) -> bool:\n",
    "    \"\"\"\n",
    "    Check, whether the string s can be interpreted as a propositional variable. \n",
    "    \"\"\"\n",
    "    if re.fullmatch('[A-Za-z][A-Za-z0-9<>,]*', s):\n",
    "        return True\n",
    "    else:\n",
    "        return False"
   ]
  },
  {
   "cell_type": "code",
   "execution_count": null,
   "id": "8832b2c0",
   "metadata": {},
   "outputs": [],
   "source": [
    "from typing import TypeVar"
   ]
  },
  {
   "cell_type": "code",
   "execution_count": null,
   "id": "d061583a",
   "metadata": {},
   "outputs": [],
   "source": [
    "Formula = TypeVar('Formula')\n",
    "Formula = str | tuple[Formula, ...]"
   ]
  },
  {
   "cell_type": "markdown",
   "id": "8ec25ee8",
   "metadata": {},
   "source": [
    "The class `LogicParser` implements the shunting yard algorithm to parse formulas from\n",
    "propositional logic.  The strings that represent formulas are transformed\n",
    "into nested tuples that are interpreted as syntax trees representing the \n",
    "formulas."
   ]
  },
  {
   "cell_type": "code",
   "execution_count": null,
   "id": "52cbfce6",
   "metadata": {},
   "outputs": [],
   "source": [
    "class LogicParser:\n",
    "\n",
    "    def __init__(self, s: str) -> None:\n",
    "        \"The constructor takes a string s that represents a formula.\"\n",
    "        self._tokens    : list[str]     = list(reversed(tokenize(s)))\n",
    "        self._operators : list[str]     = []\n",
    "        self._arguments : list[Formula] = []\n",
    "        self._input     : str           = s\n",
    "        \n",
    "    def parse(self) -> Formula:\n",
    "        \"\"\"Parse the token list and return a syntax tree.\"\"\"\n",
    "        while self._tokens != []:\n",
    "            next_op = self._tokens.pop()\n",
    "            if isPropVar(next_op):\n",
    "                self._arguments.append(next_op)\n",
    "                continue\n",
    "            if next_op == '⊤' or next_op == '⊥':\n",
    "                self._operators.append(next_op)\n",
    "                continue\n",
    "            if (self._operators == [] or next_op == '('):\n",
    "                self._operators.append(next_op)\n",
    "                continue\n",
    "            stack_op = self._operators[-1]\n",
    "            if stack_op == '(' and next_op == ')':\n",
    "                self._operators.pop()\n",
    "            elif (next_op == ')' or self._eval_before(stack_op, next_op)):\n",
    "                self._pop_and_evaluate()\n",
    "                self._tokens.append(next_op)\n",
    "            else:\n",
    "                self._operators.append(next_op)\n",
    "        while self._operators != []:\n",
    "            self._pop_and_evaluate()\n",
    "        if len(self._arguments) != 1:\n",
    "            raise Exception(f'could not parse {self._input}')\n",
    "        return self._arguments.pop()\n",
    "\n",
    "    def _eval_before(self, stack_op: str, next_op: str) -> bool:\n",
    "        \"\"\"Check if the operator on top of the operator stack should be evaluated\n",
    "           before the next operator from the input list.\n",
    "        \"\"\"\n",
    "        if stack_op == '(':\n",
    "            return False\n",
    "        precedences = { '↔': 1, '→': 2, '⊕': 3, '∨': 4, '∧': 5, '¬': 6,\n",
    "                        '⊤':7, '⊥':7\n",
    "                      }\n",
    "        if precedences[stack_op] > precedences[next_op]:\n",
    "            return True\n",
    "        elif precedences[stack_op] == precedences[next_op]:\n",
    "            if stack_op == next_op:\n",
    "                return stack_op in { '∧', '∨', '⊕' } # left associative\n",
    "            return True\n",
    "        return False\n",
    "\n",
    "    def _pop_and_evaluate(self) -> None:\n",
    "        op = self._operators.pop()\n",
    "        if op == '⊤' or op == '⊥':\n",
    "            self._arguments.append( (op,) )\n",
    "            return\n",
    "        if op == '¬':\n",
    "            arg = self._arguments.pop()\n",
    "            self._arguments.append( ('¬', arg) )\n",
    "            return\n",
    "        rhs = self._arguments.pop()\n",
    "        lhs = self._arguments.pop()\n",
    "        self._arguments.append( (op, lhs, rhs) )\n",
    "\n",
    "    def __str__(self) -> str:\n",
    "        \"\"\"Return the current state as a string for pretty printing.\"\"\"\n",
    "        return (self._tokens.__str__()    + ' ' +\n",
    "                self._arguments.__str__() + ' ' +\n",
    "                self._operators.__str__())"
   ]
  },
  {
   "cell_type": "code",
   "execution_count": null,
   "id": "9c94bd77",
   "metadata": {},
   "outputs": [],
   "source": [
    "def testParser(s):\n",
    "    p = LogicParser(s)\n",
    "    print('\\n')\n",
    "    print('parsing', s)\n",
    "    print(p.parse())\n",
    "\n",
    "if __name__ == '__main__':\n",
    "    testParser('¬⊥')\n",
    "    testParser('¬p ↔ (p → ⊥)')\n",
    "    testParser('¬⊥ ↔ ⊤')\n",
    "    testParser('p ∧ q')\n",
    "    testParser('p ∨ q ∧ r')\n",
    "    testParser('p ∧ q ∨ r')\n",
    "    testParser('p ∧ q → r ∨ s')\n",
    "    testParser('p → q → r')\n",
    "    testParser('p ∧ q ↔ q ∨ p')\n",
    "    testParser('¬(p ∨ q) ↔ ¬p ∨ ¬q')\n",
    "    testParser('¬(p ⊕ q) ↔ (p ↔ q)')\n",
    "    testParser('a<1,2> ↔ b<2,1>')"
   ]
  },
  {
   "cell_type": "code",
   "execution_count": null,
   "id": "74ea634c",
   "metadata": {},
   "outputs": [],
   "source": [
    "testParser('p ↔ q ↔ r')"
   ]
  },
  {
   "cell_type": "code",
   "execution_count": null,
   "id": "5186a9c6",
   "metadata": {},
   "outputs": [],
   "source": [
    "testParser(\"a ∧ b ∧ c\")"
   ]
  },
  {
   "cell_type": "code",
   "execution_count": null,
   "id": "075f23c1",
   "metadata": {},
   "outputs": [],
   "source": []
  }
 ],
 "metadata": {
  "kernelspec": {
   "display_name": "Python 3 (ipykernel)",
   "language": "python",
   "name": "python3"
  },
  "language_info": {
   "codemirror_mode": {
    "name": "ipython",
    "version": 3
   },
   "file_extension": ".py",
   "mimetype": "text/x-python",
   "name": "python",
   "nbconvert_exporter": "python",
   "pygments_lexer": "ipython3",
   "version": "3.13.2"
  }
 },
 "nbformat": 4,
 "nbformat_minor": 5
}
